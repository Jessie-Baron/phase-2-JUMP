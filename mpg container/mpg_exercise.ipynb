{
 "cells": [
  {
   "cell_type": "code",
   "execution_count": 81,
   "metadata": {},
   "outputs": [],
   "source": [
    "from pyspark.sql import SparkSession as ps\n",
    "import seaborn as sns\n",
    "import pyspark.sql.functions as f\n",
    "import matplotlib.pyplot as plt"
   ]
  },
  {
   "cell_type": "code",
   "execution_count": 60,
   "metadata": {},
   "outputs": [
    {
     "name": "stdout",
     "output_type": "stream",
     "text": [
      "+----+---------+------------+----------+------+------------+----------+------+--------------------+\n",
      "| mpg|cylinders|displacement|horsepower|weight|acceleration|model_year|origin|                name|\n",
      "+----+---------+------------+----------+------+------------+----------+------+--------------------+\n",
      "|18.0|        8|       307.0|     130.0|  3504|        12.0|        70|   usa|chevrolet chevell...|\n",
      "|15.0|        8|       350.0|     165.0|  3693|        11.5|        70|   usa|   buick skylark 320|\n",
      "|18.0|        8|       318.0|     150.0|  3436|        11.0|        70|   usa|  plymouth satellite|\n",
      "|16.0|        8|       304.0|     150.0|  3433|        12.0|        70|   usa|       amc rebel sst|\n",
      "|17.0|        8|       302.0|     140.0|  3449|        10.5|        70|   usa|         ford torino|\n",
      "|15.0|        8|       429.0|     198.0|  4341|        10.0|        70|   usa|    ford galaxie 500|\n",
      "|14.0|        8|       454.0|     220.0|  4354|         9.0|        70|   usa|    chevrolet impala|\n",
      "|14.0|        8|       440.0|     215.0|  4312|         8.5|        70|   usa|   plymouth fury iii|\n",
      "|14.0|        8|       455.0|     225.0|  4425|        10.0|        70|   usa|    pontiac catalina|\n",
      "|15.0|        8|       390.0|     190.0|  3850|         8.5|        70|   usa|  amc ambassador dpl|\n",
      "|15.0|        8|       383.0|     170.0|  3563|        10.0|        70|   usa| dodge challenger se|\n",
      "|14.0|        8|       340.0|     160.0|  3609|         8.0|        70|   usa|  plymouth 'cuda 340|\n",
      "|15.0|        8|       400.0|     150.0|  3761|         9.5|        70|   usa|chevrolet monte c...|\n",
      "|14.0|        8|       455.0|     225.0|  3086|        10.0|        70|   usa|buick estate wago...|\n",
      "|24.0|        4|       113.0|      95.0|  2372|        15.0|        70| japan|toyota corona mar...|\n",
      "|22.0|        6|       198.0|      95.0|  2833|        15.5|        70|   usa|     plymouth duster|\n",
      "|18.0|        6|       199.0|      97.0|  2774|        15.5|        70|   usa|          amc hornet|\n",
      "|21.0|        6|       200.0|      85.0|  2587|        16.0|        70|   usa|       ford maverick|\n",
      "|27.0|        4|        97.0|      88.0|  2130|        14.5|        70| japan|        datsun pl510|\n",
      "|26.0|        4|        97.0|      46.0|  1835|        20.5|        70|europe|volkswagen 1131 d...|\n",
      "+----+---------+------------+----------+------+------------+----------+------+--------------------+\n",
      "only showing top 20 rows\n",
      "\n"
     ]
    }
   ],
   "source": [
    "spark = ps.builder.getOrCreate()\n",
    "mpg = sns.load_dataset(\"mpg\")\n",
    "df = spark.createDataFrame(mpg)\n",
    "\n",
    "df.show()"
   ]
  },
  {
   "attachments": {},
   "cell_type": "markdown",
   "metadata": {},
   "source": [
    "Cars with the highest and lowest mpg"
   ]
  },
  {
   "cell_type": "code",
   "execution_count": 61,
   "metadata": {},
   "outputs": [
    {
     "name": "stderr",
     "output_type": "stream",
     "text": [
      "                                                                                \r"
     ]
    },
    {
     "name": "stdout",
     "output_type": "stream",
     "text": [
      "+--------+\n",
      "|max(mpg)|\n",
      "+--------+\n",
      "|    46.6|\n",
      "+--------+\n",
      "\n"
     ]
    },
    {
     "name": "stderr",
     "output_type": "stream",
     "text": [
      "[Stage 26:=============================>                            (2 + 2) / 4]\r"
     ]
    },
    {
     "name": "stdout",
     "output_type": "stream",
     "text": [
      "+--------+\n",
      "|min(mpg)|\n",
      "+--------+\n",
      "|     9.0|\n",
      "+--------+\n",
      "\n"
     ]
    },
    {
     "name": "stderr",
     "output_type": "stream",
     "text": [
      "                                                                                \r"
     ]
    }
   ],
   "source": [
    "df.select(f.max(df.mpg)).show()\n",
    "df.select(f.min(df.mpg)).show()"
   ]
  },
  {
   "attachments": {},
   "cell_type": "markdown",
   "metadata": {},
   "source": [
    "Highest and lowest mpg in their release decade"
   ]
  },
  {
   "cell_type": "code",
   "execution_count": 77,
   "metadata": {},
   "outputs": [
    {
     "name": "stderr",
     "output_type": "stream",
     "text": [
      "                                                                                \r"
     ]
    },
    {
     "name": "stdout",
     "output_type": "stream",
     "text": [
      "+----------+--------+\n",
      "|model_year|max(mpg)|\n",
      "+----------+--------+\n",
      "|        71|    35.0|\n",
      "|        72|    28.0|\n",
      "|        73|    29.0|\n",
      "|        70|    27.0|\n",
      "|        74|    32.0|\n",
      "|        76|    33.0|\n",
      "|        75|    33.0|\n",
      "|        77|    36.0|\n",
      "|        79|    37.3|\n",
      "|        78|    43.1|\n",
      "|        80|    46.6|\n",
      "|        81|    39.1|\n",
      "|        82|    44.0|\n",
      "+----------+--------+\n",
      "\n",
      "+----------+--------+\n",
      "|model_year|min(mpg)|\n",
      "+----------+--------+\n",
      "|        71|    12.0|\n",
      "|        72|    11.0|\n",
      "|        73|    11.0|\n",
      "|        70|     9.0|\n",
      "|        74|    13.0|\n",
      "|        76|    13.0|\n",
      "|        75|    13.0|\n",
      "|        77|    15.0|\n",
      "|        79|    15.5|\n",
      "|        78|    16.2|\n",
      "|        80|    19.1|\n",
      "|        81|    17.6|\n",
      "|        82|    22.0|\n",
      "+----------+--------+\n",
      "\n"
     ]
    }
   ],
   "source": [
    "df.groupBy('model_year').max('mpg').show()\n",
    "df.groupBy('model_year').min('mpg').show() "
   ]
  },
  {
   "attachments": {},
   "cell_type": "markdown",
   "metadata": {},
   "source": [
    "Average weight per country of origin"
   ]
  },
  {
   "cell_type": "code",
   "execution_count": 73,
   "metadata": {},
   "outputs": [
    {
     "name": "stderr",
     "output_type": "stream",
     "text": [
      "[Stage 38:===========================================>              (3 + 1) / 4]\r"
     ]
    },
    {
     "name": "stdout",
     "output_type": "stream",
     "text": [
      "+------+------------------+\n",
      "|origin|       avg(weight)|\n",
      "+------+------------------+\n",
      "| japan| 2221.227848101266|\n",
      "|europe|            2423.3|\n",
      "|   usa|3361.9317269076305|\n",
      "+------+------------------+\n",
      "\n"
     ]
    },
    {
     "name": "stderr",
     "output_type": "stream",
     "text": [
      "                                                                                \r"
     ]
    }
   ],
   "source": [
    "df.groupby('origin').avg('weight').show()"
   ]
  },
  {
   "attachments": {},
   "cell_type": "markdown",
   "metadata": {},
   "source": [
    "Avg mpg per country of origin and release year"
   ]
  },
  {
   "cell_type": "code",
   "execution_count": 78,
   "metadata": {},
   "outputs": [
    {
     "name": "stderr",
     "output_type": "stream",
     "text": [
      "[Stage 53:>                                                         (0 + 4) / 4]\r"
     ]
    },
    {
     "name": "stdout",
     "output_type": "stream",
     "text": [
      "+------+----------+------------------+\n",
      "|origin|model_year|          avg(mpg)|\n",
      "+------+----------+------------------+\n",
      "|europe|        71|             28.75|\n",
      "|   usa|        73| 15.03448275862069|\n",
      "| japan|        72|              24.2|\n",
      "|europe|        72|              22.0|\n",
      "|europe|        70|              25.2|\n",
      "| japan|        71|              29.5|\n",
      "|   usa|        70|15.272727272727273|\n",
      "| japan|        70|              25.5|\n",
      "|   usa|        71|              18.1|\n",
      "|   usa|        72| 16.27777777777778|\n",
      "| japan|        75|              27.5|\n",
      "|europe|        76|             24.25|\n",
      "| japan|        73|              20.0|\n",
      "|   usa|        74|18.333333333333332|\n",
      "|europe|        74|              27.0|\n",
      "|   usa|        76|19.431818181818183|\n",
      "|   usa|        75|             17.55|\n",
      "|europe|        75|              24.5|\n",
      "| japan|        74|29.333333333333332|\n",
      "|europe|        73|              24.0|\n",
      "+------+----------+------------------+\n",
      "only showing top 20 rows\n",
      "\n"
     ]
    },
    {
     "name": "stderr",
     "output_type": "stream",
     "text": [
      "                                                                                \r"
     ]
    }
   ],
   "source": [
    "df.groupby('origin', 'model_year').avg('mpg').show()"
   ]
  },
  {
   "attachments": {},
   "cell_type": "markdown",
   "metadata": {},
   "source": [
    "correlation between mpg and release year"
   ]
  },
  {
   "cell_type": "code",
   "execution_count": 79,
   "metadata": {},
   "outputs": [
    {
     "name": "stderr",
     "output_type": "stream",
     "text": [
      "                                                                                \r"
     ]
    },
    {
     "data": {
      "text/plain": [
       "0.5792671330833097"
      ]
     },
     "execution_count": 79,
     "metadata": {},
     "output_type": "execute_result"
    }
   ],
   "source": [
    "df.stat.corr('mpg', 'model_year')"
   ]
  },
  {
   "attachments": {},
   "cell_type": "markdown",
   "metadata": {},
   "source": [
    "Relationship between cylinder and horsepower\n",
    "\n",
    "As cylinders increase so will horsepower"
   ]
  },
  {
   "cell_type": "code",
   "execution_count": 98,
   "metadata": {},
   "outputs": [
    {
     "data": {
      "text/plain": [
       "<BarContainer object of 398 artists>"
      ]
     },
     "execution_count": 98,
     "metadata": {},
     "output_type": "execute_result"
    },
    {
     "data": {
      "image/png": "[encoded data removed]",
      "text/plain": [
       "<Figure size 640x480 with 1 Axes>"
      ]
     },
     "metadata": {},
     "output_type": "display_data"
    }
   ],
   "source": [
    "plt.bar(mpg['cylinders'], mpg['horsepower'])"
   ]
  },
  {
   "attachments": {},
   "cell_type": "markdown",
   "metadata": {},
   "source": [
    "Relationship between cylinders and acceleration\n",
    "\n",
    "as cylinders increase, acceleration will slowly decline\n"
   ]
  },
  {
   "cell_type": "code",
   "execution_count": 97,
   "metadata": {},
   "outputs": [
    {
     "data": {
      "text/plain": [
       "<BarContainer object of 398 artists>"
      ]
     },
     "execution_count": 97,
     "metadata": {},
     "output_type": "execute_result"
    },
    {
     "data": {
      "image/png": "[encoded data removed]",
      "text/plain": [
       "<Figure size 640x480 with 1 Axes>"
      ]
     },
     "metadata": {},
     "output_type": "display_data"
    }
   ],
   "source": [
    "plt.bar(mpg['cylinders'], mpg['acceleration'])"
   ]
  },
  {
   "attachments": {},
   "cell_type": "markdown",
   "metadata": {},
   "source": [
    "What other factors correlate to acceleration?\n",
    "\n",
    "One factor with a clear relationship to acceleration is weight: the lower the weight, the higher the acceleration"
   ]
  },
  {
   "cell_type": "code",
   "execution_count": 100,
   "metadata": {},
   "outputs": [
    {
     "data": {
      "text/plain": [
       "-0.41745731994039337"
      ]
     },
     "execution_count": 100,
     "metadata": {},
     "output_type": "execute_result"
    },
    {
     "data": {
      "image/png": "[encoded data removed]",
      "text/plain": [
       "<Figure size 640x480 with 1 Axes>"
      ]
     },
     "metadata": {},
     "output_type": "display_data"
    }
   ],
   "source": [
    "plt.scatter(mpg['weight'], mpg['acceleration'])\n",
    "df.stat.corr('weight', 'acceleration')"
   ]
  }
 ],
 "metadata": {
  "kernelspec": {
   "display_name": "base",
   "language": "python",
   "name": "python3"
  },
  "language_info": {
   "codemirror_mode": {
    "name": "ipython",
    "version": 3
   },
   "file_extension": ".py",
   "mimetype": "text/x-python",
   "name": "python",
   "nbconvert_exporter": "python",
   "pygments_lexer": "ipython3",
   "version": "3.10.9"
  },
  "orig_nbformat": 4
 },
 "nbformat": 4,
 "nbformat_minor": 2
}
